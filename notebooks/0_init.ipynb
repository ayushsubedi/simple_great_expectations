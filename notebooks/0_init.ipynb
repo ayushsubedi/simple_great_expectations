{
 "cells": [
  {
   "cell_type": "code",
   "execution_count": 1,
   "id": "1a3ad6f2-fb1a-4ca2-80a2-6cf3b44d4246",
   "metadata": {},
   "outputs": [],
   "source": [
    "import pandas as pd\n",
    "import numpy as np\n",
    "import great_expectations as gx\n",
    "import logging"
   ]
  },
  {
   "cell_type": "code",
   "execution_count": 2,
   "id": "4c10d9d7-1fa3-46f3-a206-e5bb9d565bc1",
   "metadata": {},
   "outputs": [
    {
     "data": {
      "text/html": [
       "<div>\n",
       "<style scoped>\n",
       "    .dataframe tbody tr th:only-of-type {\n",
       "        vertical-align: middle;\n",
       "    }\n",
       "\n",
       "    .dataframe tbody tr th {\n",
       "        vertical-align: top;\n",
       "    }\n",
       "\n",
       "    .dataframe thead th {\n",
       "        text-align: right;\n",
       "    }\n",
       "</style>\n",
       "<table border=\"1\" class=\"dataframe\">\n",
       "  <thead>\n",
       "    <tr style=\"text-align: right;\">\n",
       "      <th></th>\n",
       "      <th>A</th>\n",
       "      <th>B</th>\n",
       "      <th>C</th>\n",
       "      <th>D</th>\n",
       "    </tr>\n",
       "  </thead>\n",
       "  <tbody>\n",
       "    <tr>\n",
       "      <th>0</th>\n",
       "      <td>4</td>\n",
       "      <td>46</td>\n",
       "      <td>49</td>\n",
       "      <td>60</td>\n",
       "    </tr>\n",
       "    <tr>\n",
       "      <th>1</th>\n",
       "      <td>85</td>\n",
       "      <td>63</td>\n",
       "      <td>4</td>\n",
       "      <td>7</td>\n",
       "    </tr>\n",
       "    <tr>\n",
       "      <th>2</th>\n",
       "      <td>10</td>\n",
       "      <td>75</td>\n",
       "      <td>94</td>\n",
       "      <td>85</td>\n",
       "    </tr>\n",
       "    <tr>\n",
       "      <th>3</th>\n",
       "      <td>86</td>\n",
       "      <td>47</td>\n",
       "      <td>59</td>\n",
       "      <td>51</td>\n",
       "    </tr>\n",
       "    <tr>\n",
       "      <th>4</th>\n",
       "      <td>20</td>\n",
       "      <td>10</td>\n",
       "      <td>90</td>\n",
       "      <td>80</td>\n",
       "    </tr>\n",
       "    <tr>\n",
       "      <th>...</th>\n",
       "      <td>...</td>\n",
       "      <td>...</td>\n",
       "      <td>...</td>\n",
       "      <td>...</td>\n",
       "    </tr>\n",
       "    <tr>\n",
       "      <th>95</th>\n",
       "      <td>2</td>\n",
       "      <td>21</td>\n",
       "      <td>16</td>\n",
       "      <td>40</td>\n",
       "    </tr>\n",
       "    <tr>\n",
       "      <th>96</th>\n",
       "      <td>11</td>\n",
       "      <td>62</td>\n",
       "      <td>54</td>\n",
       "      <td>54</td>\n",
       "    </tr>\n",
       "    <tr>\n",
       "      <th>97</th>\n",
       "      <td>15</td>\n",
       "      <td>42</td>\n",
       "      <td>43</td>\n",
       "      <td>83</td>\n",
       "    </tr>\n",
       "    <tr>\n",
       "      <th>98</th>\n",
       "      <td>49</td>\n",
       "      <td>43</td>\n",
       "      <td>52</td>\n",
       "      <td>60</td>\n",
       "    </tr>\n",
       "    <tr>\n",
       "      <th>99</th>\n",
       "      <td>70</td>\n",
       "      <td>13</td>\n",
       "      <td>63</td>\n",
       "      <td>56</td>\n",
       "    </tr>\n",
       "  </tbody>\n",
       "</table>\n",
       "<p>100 rows × 4 columns</p>\n",
       "</div>"
      ],
      "text/plain": [
       "     A   B   C   D\n",
       "0    4  46  49  60\n",
       "1   85  63   4   7\n",
       "2   10  75  94  85\n",
       "3   86  47  59  51\n",
       "4   20  10  90  80\n",
       "..  ..  ..  ..  ..\n",
       "95   2  21  16  40\n",
       "96  11  62  54  54\n",
       "97  15  42  43  83\n",
       "98  49  43  52  60\n",
       "99  70  13  63  56\n",
       "\n",
       "[100 rows x 4 columns]"
      ]
     },
     "execution_count": 2,
     "metadata": {},
     "output_type": "execute_result"
    }
   ],
   "source": [
    "df = pd.DataFrame(np.random.randint(0,100,size=(100, 4)), columns=list('ABCD'))\n",
    "df"
   ]
  },
  {
   "cell_type": "code",
   "execution_count": 3,
   "id": "3038c74c-b793-417b-99c4-a2d2684ab1a4",
   "metadata": {},
   "outputs": [],
   "source": [
    "def log_issue(output_dict):\n",
    "    if not output_dict['success']:\n",
    "        logging.warning(output_dict)"
   ]
  },
  {
   "cell_type": "code",
   "execution_count": 4,
   "id": "1476c680-11a1-48e5-b326-bf4e4bd9cc3a",
   "metadata": {},
   "outputs": [],
   "source": [
    "def expectations_input(df):\n",
    "    df_ge = gx.from_pandas(df)\n",
    "    log_issue(df_ge.expect_column_to_exist(\"A\"))"
   ]
  },
  {
   "cell_type": "code",
   "execution_count": 5,
   "id": "f292e081-7a64-4bd9-96de-04564099ec9c",
   "metadata": {},
   "outputs": [],
   "source": [
    "def expectations_output(df):\n",
    "    df_ge = gx.from_pandas(df)\n",
    "    log_issue(df_ge.expect_column_to_exist(\"A\"))\n",
    "    log_issue(df_ge.expect_column_to_exist(\"E\"))"
   ]
  },
  {
   "cell_type": "code",
   "execution_count": 6,
   "id": "c0a17f09-474d-4212-b0c5-8b026afab0ce",
   "metadata": {},
   "outputs": [
    {
     "name": "stderr",
     "output_type": "stream",
     "text": [
      "WARNING:root:{\n",
      "  \"result\": {},\n",
      "  \"meta\": {},\n",
      "  \"exception_info\": {\n",
      "    \"raised_exception\": false,\n",
      "    \"exception_traceback\": null,\n",
      "    \"exception_message\": null\n",
      "  },\n",
      "  \"success\": false,\n",
      "  \"expectation_config\": {\n",
      "    \"meta\": {},\n",
      "    \"kwargs\": {\n",
      "      \"column\": \"E\",\n",
      "      \"result_format\": \"BASIC\"\n",
      "    },\n",
      "    \"expectation_type\": \"expect_column_to_exist\"\n",
      "  }\n",
      "}\n"
     ]
    }
   ],
   "source": [
    "expectations_output(df)"
   ]
  },
  {
   "cell_type": "code",
   "execution_count": null,
   "id": "dbd893fa-0a5e-454c-94f9-fdfc6f3dbca0",
   "metadata": {},
   "outputs": [],
   "source": []
  }
 ],
 "metadata": {
  "kernelspec": {
   "display_name": "Python 3 (ipykernel)",
   "language": "python",
   "name": "python3"
  },
  "language_info": {
   "codemirror_mode": {
    "name": "ipython",
    "version": 3
   },
   "file_extension": ".py",
   "mimetype": "text/x-python",
   "name": "python",
   "nbconvert_exporter": "python",
   "pygments_lexer": "ipython3",
   "version": "3.8.5"
  }
 },
 "nbformat": 4,
 "nbformat_minor": 5
}
